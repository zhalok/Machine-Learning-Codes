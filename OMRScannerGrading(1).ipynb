{
  "cells": [
    {
      "cell_type": "code",
      "execution_count": 1,
      "metadata": {
        "id": "TfNc0Zlffp_2",
        "colab": {
          "base_uri": "https://localhost:8080/"
        },
        "outputId": "242ed65b-5938-4159-c683-85945277b142"
      },
      "outputs": [
        {
          "output_type": "stream",
          "name": "stdout",
          "text": [
            "Collecting ultralytics\n",
            "  Downloading ultralytics-8.0.126-py3-none-any.whl (612 kB)\n",
            "\u001b[?25l     \u001b[90m━━━━━━━━━━━━━━━━━━━━━━━━━━━━━━━━━━━━━━━━\u001b[0m \u001b[32m0.0/613.0 kB\u001b[0m \u001b[31m?\u001b[0m eta \u001b[36m-:--:--\u001b[0m\r\u001b[2K     \u001b[91m━━━━━━━━━━━━━━━━━\u001b[0m\u001b[91m╸\u001b[0m\u001b[90m━━━━━━━━━━━━━━━━━━━━━\u001b[0m \u001b[32m276.5/613.0 kB\u001b[0m \u001b[31m8.0 MB/s\u001b[0m eta \u001b[36m0:00:01\u001b[0m\r\u001b[2K     \u001b[90m━━━━━━━━━━━━━━━━━━━━━━━━━━━━━━━━━━━━━━\u001b[0m \u001b[32m613.0/613.0 kB\u001b[0m \u001b[31m10.8 MB/s\u001b[0m eta \u001b[36m0:00:00\u001b[0m\n",
            "\u001b[?25hRequirement already satisfied: matplotlib>=3.2.2 in /usr/local/lib/python3.10/dist-packages (from ultralytics) (3.7.1)\n",
            "Requirement already satisfied: opencv-python>=4.6.0 in /usr/local/lib/python3.10/dist-packages (from ultralytics) (4.7.0.72)\n",
            "Requirement already satisfied: Pillow>=7.1.2 in /usr/local/lib/python3.10/dist-packages (from ultralytics) (8.4.0)\n",
            "Requirement already satisfied: PyYAML>=5.3.1 in /usr/local/lib/python3.10/dist-packages (from ultralytics) (6.0)\n",
            "Requirement already satisfied: requests>=2.23.0 in /usr/local/lib/python3.10/dist-packages (from ultralytics) (2.27.1)\n",
            "Requirement already satisfied: scipy>=1.4.1 in /usr/local/lib/python3.10/dist-packages (from ultralytics) (1.10.1)\n",
            "Requirement already satisfied: torch>=1.7.0 in /usr/local/lib/python3.10/dist-packages (from ultralytics) (2.0.1+cu118)\n",
            "Requirement already satisfied: torchvision>=0.8.1 in /usr/local/lib/python3.10/dist-packages (from ultralytics) (0.15.2+cu118)\n",
            "Requirement already satisfied: tqdm>=4.64.0 in /usr/local/lib/python3.10/dist-packages (from ultralytics) (4.65.0)\n",
            "Requirement already satisfied: pandas>=1.1.4 in /usr/local/lib/python3.10/dist-packages (from ultralytics) (1.5.3)\n",
            "Requirement already satisfied: seaborn>=0.11.0 in /usr/local/lib/python3.10/dist-packages (from ultralytics) (0.12.2)\n",
            "Requirement already satisfied: psutil in /usr/local/lib/python3.10/dist-packages (from ultralytics) (5.9.5)\n",
            "Requirement already satisfied: contourpy>=1.0.1 in /usr/local/lib/python3.10/dist-packages (from matplotlib>=3.2.2->ultralytics) (1.1.0)\n",
            "Requirement already satisfied: cycler>=0.10 in /usr/local/lib/python3.10/dist-packages (from matplotlib>=3.2.2->ultralytics) (0.11.0)\n",
            "Requirement already satisfied: fonttools>=4.22.0 in /usr/local/lib/python3.10/dist-packages (from matplotlib>=3.2.2->ultralytics) (4.40.0)\n",
            "Requirement already satisfied: kiwisolver>=1.0.1 in /usr/local/lib/python3.10/dist-packages (from matplotlib>=3.2.2->ultralytics) (1.4.4)\n",
            "Requirement already satisfied: numpy>=1.20 in /usr/local/lib/python3.10/dist-packages (from matplotlib>=3.2.2->ultralytics) (1.22.4)\n",
            "Requirement already satisfied: packaging>=20.0 in /usr/local/lib/python3.10/dist-packages (from matplotlib>=3.2.2->ultralytics) (23.1)\n",
            "Requirement already satisfied: pyparsing>=2.3.1 in /usr/local/lib/python3.10/dist-packages (from matplotlib>=3.2.2->ultralytics) (3.1.0)\n",
            "Requirement already satisfied: python-dateutil>=2.7 in /usr/local/lib/python3.10/dist-packages (from matplotlib>=3.2.2->ultralytics) (2.8.2)\n",
            "Requirement already satisfied: pytz>=2020.1 in /usr/local/lib/python3.10/dist-packages (from pandas>=1.1.4->ultralytics) (2022.7.1)\n",
            "Requirement already satisfied: urllib3<1.27,>=1.21.1 in /usr/local/lib/python3.10/dist-packages (from requests>=2.23.0->ultralytics) (1.26.16)\n",
            "Requirement already satisfied: certifi>=2017.4.17 in /usr/local/lib/python3.10/dist-packages (from requests>=2.23.0->ultralytics) (2023.5.7)\n",
            "Requirement already satisfied: charset-normalizer~=2.0.0 in /usr/local/lib/python3.10/dist-packages (from requests>=2.23.0->ultralytics) (2.0.12)\n",
            "Requirement already satisfied: idna<4,>=2.5 in /usr/local/lib/python3.10/dist-packages (from requests>=2.23.0->ultralytics) (3.4)\n",
            "Requirement already satisfied: filelock in /usr/local/lib/python3.10/dist-packages (from torch>=1.7.0->ultralytics) (3.12.2)\n",
            "Requirement already satisfied: typing-extensions in /usr/local/lib/python3.10/dist-packages (from torch>=1.7.0->ultralytics) (4.6.3)\n",
            "Requirement already satisfied: sympy in /usr/local/lib/python3.10/dist-packages (from torch>=1.7.0->ultralytics) (1.11.1)\n",
            "Requirement already satisfied: networkx in /usr/local/lib/python3.10/dist-packages (from torch>=1.7.0->ultralytics) (3.1)\n",
            "Requirement already satisfied: jinja2 in /usr/local/lib/python3.10/dist-packages (from torch>=1.7.0->ultralytics) (3.1.2)\n",
            "Requirement already satisfied: triton==2.0.0 in /usr/local/lib/python3.10/dist-packages (from torch>=1.7.0->ultralytics) (2.0.0)\n",
            "Requirement already satisfied: cmake in /usr/local/lib/python3.10/dist-packages (from triton==2.0.0->torch>=1.7.0->ultralytics) (3.25.2)\n",
            "Requirement already satisfied: lit in /usr/local/lib/python3.10/dist-packages (from triton==2.0.0->torch>=1.7.0->ultralytics) (16.0.6)\n",
            "Requirement already satisfied: six>=1.5 in /usr/local/lib/python3.10/dist-packages (from python-dateutil>=2.7->matplotlib>=3.2.2->ultralytics) (1.16.0)\n",
            "Requirement already satisfied: MarkupSafe>=2.0 in /usr/local/lib/python3.10/dist-packages (from jinja2->torch>=1.7.0->ultralytics) (2.1.3)\n",
            "Requirement already satisfied: mpmath>=0.19 in /usr/local/lib/python3.10/dist-packages (from sympy->torch>=1.7.0->ultralytics) (1.3.0)\n",
            "Installing collected packages: ultralytics\n",
            "Successfully installed ultralytics-8.0.126\n"
          ]
        }
      ],
      "source": [
        "!pip install ultralytics"
      ]
    },
    {
      "cell_type": "code",
      "execution_count": 2,
      "metadata": {
        "id": "XTHq1Y7gfzi1"
      },
      "outputs": [],
      "source": [
        "from ultralytics import YOLO\n",
        "import cv2\n",
        "from google.colab.patches import cv2_imshow\n",
        "import numpy as np\n",
        "import matplotlib.pyplot as plt\n",
        "from sklearn.cluster import DBSCAN\n",
        "from sklearn.datasets import make_blobs\n",
        "import matplotlib.pyplot as plt\n",
        "import os"
      ]
    },
    {
      "cell_type": "code",
      "execution_count": 3,
      "metadata": {
        "id": "m_LGaTVByERS"
      },
      "outputs": [],
      "source": [
        "def euclidean_distance(point1, point2):\n",
        "    return np.linalg.norm(point1 - point2)"
      ]
    },
    {
      "cell_type": "code",
      "source": [
        "def grayscale_conversion(image):\n",
        "  gray_image = np.zeros_like(image)\n",
        "  gray_image[:,:,0] = cv2.cvtColor(image, cv2.COLOR_BGR2GRAY)\n",
        "  gray_image[:,:,1] = gray_image[:,:,0]\n",
        "  gray_image[:,:,2] = gray_image[:,:,0]\n",
        "\n",
        "  return gray_image"
      ],
      "metadata": {
        "id": "McIT6pmMcPr8"
      },
      "execution_count": 4,
      "outputs": []
    },
    {
      "cell_type": "code",
      "execution_count": 12,
      "metadata": {
        "id": "51KSpDbYf5lC"
      },
      "outputs": [],
      "source": [
        "def predict(model_path,image_path):\n",
        "  model = YOLO(model_path)\n",
        "  image = cv2.imread(image_path)\n",
        "  # gray_image = grayscale_conversion(image)\n",
        "  predictions = model.predict(save=True,show_labels=True,source=image)\n",
        "  return predictions[0]"
      ]
    },
    {
      "cell_type": "code",
      "execution_count": 6,
      "metadata": {
        "id": "uSzTVyuph6Q9"
      },
      "outputs": [],
      "source": [
        "def clustering(centers,boxes,names):\n",
        "  X=centers\n",
        "  eps = 1\n",
        "  min_samples = 1\n",
        "  dbscan = DBSCAN(eps=eps,min_samples=min_samples)\n",
        "  dbscan.fit(X)\n",
        "\n",
        "  labels = dbscan.labels_\n",
        "  core_samples = dbscan.core_sample_indices_\n",
        "\n",
        "\n",
        "  n_clusters = len(set(labels)) - (1 if -1 in labels else 0)\n",
        "\n",
        "\n",
        "  clusters = [0]*n_clusters\n",
        "\n",
        "  for idx, c in enumerate(centers):\n",
        "\n",
        "    cls = int(boxes[idx].cls.tolist()[0])\n",
        "    nm = names[cls]\n",
        "    clusters[labels[idx]] = [c,nm]\n",
        "\n",
        "  return clusters\n"
      ]
    },
    {
      "cell_type": "code",
      "source": [
        "def column_detection(clusters,boxes,names):\n",
        "\n",
        "  X = [cluster[0] for cluster in clusters]\n",
        "\n",
        "  eps = 22.0*2\n",
        "  min_samples = 1\n",
        "  dbscan = DBSCAN(eps=eps,min_samples=min_samples)\n",
        "  dbscan.fit(X)\n",
        "\n",
        "  labels = dbscan.labels_\n",
        "  core_samples = dbscan.core_sample_indices_\n",
        "\n",
        "\n",
        "\n",
        "\n",
        "  n_clusters = len(set(labels)) - (1 if -1 in labels else 0)\n",
        "\n",
        "\n",
        "\n",
        "\n",
        "\n",
        "  columns = [[] for i in range(n_clusters)]\n",
        "\n",
        "\n",
        "  for idx, x in enumerate(X):\n",
        "    columns[labels[idx]].append([x,clusters[idx][1]])\n",
        "\n",
        "  return columns"
      ],
      "metadata": {
        "id": "d-ThUBT-fX1v"
      },
      "execution_count": 7,
      "outputs": []
    },
    {
      "cell_type": "code",
      "source": [
        "def grading(predictions):\n",
        "  boxes = predictions.boxes\n",
        "  names = predictions.names\n",
        "  centers=[]\n",
        "\n",
        "  for box in boxes:\n",
        "\n",
        "    xywh = box.xywh\n",
        "    cls = int(box.cls.tolist()[0])\n",
        "    center = box.xywh[0][0:2]\n",
        "    center = center.numpy().tolist()\n",
        "    center = [round(cent) for cent in center]\n",
        "\n",
        "    centers.append(center)\n",
        "\n",
        "\n",
        "  centers = np.array(centers)\n",
        "\n",
        "  clusters = clustering(centers,boxes,names)\n",
        "  columns = column_detection(clusters,boxes,names)\n",
        "\n",
        "  [c.sort(key=lambda x:x[0][1]) for c in columns]\n",
        "\n",
        "  answers = []\n",
        "  for column in columns:\n",
        "    answers += column\n",
        "\n",
        "  answers = [{\"question\":idx+1, \"answer\":c[1], \"center\":c[0]} for idx, c in enumerate(answers)]\n",
        "  answers\n",
        "\n",
        "  return answers"
      ],
      "metadata": {
        "id": "KFGxGMGjfjCN"
      },
      "execution_count": 8,
      "outputs": []
    },
    {
      "cell_type": "code",
      "source": [
        "def plot_answers(image_path,answers):\n",
        "  font = cv2.FONT_HERSHEY_SIMPLEX\n",
        "  font_scale = .2\n",
        "  text_color = (255, 255, 255)  # Black color in BGR format\n",
        "  text_thickness = 1\n",
        "  image = cv2.imread(image_path)\n",
        "\n",
        "\n",
        "  for idx,answer in enumerate(answers):\n",
        "      cv2.putText(image, str(answer[\"answer\"]).upper(), answer[\"center\"], font, font_scale, text_color, text_thickness)\n",
        "\n",
        "  cv2.imwrite(\"answer_plotting.jpg\",image)\n",
        "  cv2_imshow(image)"
      ],
      "metadata": {
        "id": "xvSmcPZ2keRV"
      },
      "execution_count": 9,
      "outputs": []
    },
    {
      "cell_type": "code",
      "source": [
        "import gdown\n",
        "file_url = \"https://drive.google.com/uc?id=1GLY8NUGG_rEQPC0ctuf0v5UjyWciG5RS\"\n",
        "output_file = \"model.pt\"\n",
        "gdown.download(file_url, output_file)"
      ],
      "metadata": {
        "id": "--Al9tLrjsX0",
        "colab": {
          "base_uri": "https://localhost:8080/",
          "height": 105
        },
        "outputId": "1ba05806-d959-4e5a-dc77-15e3c93ee331"
      },
      "execution_count": 10,
      "outputs": [
        {
          "output_type": "stream",
          "name": "stderr",
          "text": [
            "Downloading...\n",
            "From: https://drive.google.com/uc?id=1GLY8NUGG_rEQPC0ctuf0v5UjyWciG5RS\n",
            "To: /content/model.pt\n",
            "100%|██████████| 6.24M/6.24M [00:00<00:00, 167MB/s]\n"
          ]
        },
        {
          "output_type": "execute_result",
          "data": {
            "text/plain": [
              "'model.pt'"
            ],
            "application/vnd.google.colaboratory.intrinsic+json": {
              "type": "string"
            }
          },
          "metadata": {},
          "execution_count": 10
        }
      ]
    },
    {
      "cell_type": "code",
      "execution_count": 13,
      "metadata": {
        "id": "OIGkQIT2ouE7",
        "colab": {
          "base_uri": "https://localhost:8080/",
          "height": 1000
        },
        "outputId": "7a395ed4-82eb-47c8-ca43-947bafd67493"
      },
      "outputs": [
        {
          "output_type": "display_data",
          "data": {
            "text/plain": [
              "<IPython.core.display.HTML object>"
            ],
            "text/html": [
              "\n",
              "     <input type=\"file\" id=\"files-62b1b1bc-c607-45d6-a7e3-d088c0986ce5\" name=\"files[]\" multiple disabled\n",
              "        style=\"border:none\" />\n",
              "     <output id=\"result-62b1b1bc-c607-45d6-a7e3-d088c0986ce5\">\n",
              "      Upload widget is only available when the cell has been executed in the\n",
              "      current browser session. Please rerun this cell to enable.\n",
              "      </output>\n",
              "      <script>// Copyright 2017 Google LLC\n",
              "//\n",
              "// Licensed under the Apache License, Version 2.0 (the \"License\");\n",
              "// you may not use this file except in compliance with the License.\n",
              "// You may obtain a copy of the License at\n",
              "//\n",
              "//      http://www.apache.org/licenses/LICENSE-2.0\n",
              "//\n",
              "// Unless required by applicable law or agreed to in writing, software\n",
              "// distributed under the License is distributed on an \"AS IS\" BASIS,\n",
              "// WITHOUT WARRANTIES OR CONDITIONS OF ANY KIND, either express or implied.\n",
              "// See the License for the specific language governing permissions and\n",
              "// limitations under the License.\n",
              "\n",
              "/**\n",
              " * @fileoverview Helpers for google.colab Python module.\n",
              " */\n",
              "(function(scope) {\n",
              "function span(text, styleAttributes = {}) {\n",
              "  const element = document.createElement('span');\n",
              "  element.textContent = text;\n",
              "  for (const key of Object.keys(styleAttributes)) {\n",
              "    element.style[key] = styleAttributes[key];\n",
              "  }\n",
              "  return element;\n",
              "}\n",
              "\n",
              "// Max number of bytes which will be uploaded at a time.\n",
              "const MAX_PAYLOAD_SIZE = 100 * 1024;\n",
              "\n",
              "function _uploadFiles(inputId, outputId) {\n",
              "  const steps = uploadFilesStep(inputId, outputId);\n",
              "  const outputElement = document.getElementById(outputId);\n",
              "  // Cache steps on the outputElement to make it available for the next call\n",
              "  // to uploadFilesContinue from Python.\n",
              "  outputElement.steps = steps;\n",
              "\n",
              "  return _uploadFilesContinue(outputId);\n",
              "}\n",
              "\n",
              "// This is roughly an async generator (not supported in the browser yet),\n",
              "// where there are multiple asynchronous steps and the Python side is going\n",
              "// to poll for completion of each step.\n",
              "// This uses a Promise to block the python side on completion of each step,\n",
              "// then passes the result of the previous step as the input to the next step.\n",
              "function _uploadFilesContinue(outputId) {\n",
              "  const outputElement = document.getElementById(outputId);\n",
              "  const steps = outputElement.steps;\n",
              "\n",
              "  const next = steps.next(outputElement.lastPromiseValue);\n",
              "  return Promise.resolve(next.value.promise).then((value) => {\n",
              "    // Cache the last promise value to make it available to the next\n",
              "    // step of the generator.\n",
              "    outputElement.lastPromiseValue = value;\n",
              "    return next.value.response;\n",
              "  });\n",
              "}\n",
              "\n",
              "/**\n",
              " * Generator function which is called between each async step of the upload\n",
              " * process.\n",
              " * @param {string} inputId Element ID of the input file picker element.\n",
              " * @param {string} outputId Element ID of the output display.\n",
              " * @return {!Iterable<!Object>} Iterable of next steps.\n",
              " */\n",
              "function* uploadFilesStep(inputId, outputId) {\n",
              "  const inputElement = document.getElementById(inputId);\n",
              "  inputElement.disabled = false;\n",
              "\n",
              "  const outputElement = document.getElementById(outputId);\n",
              "  outputElement.innerHTML = '';\n",
              "\n",
              "  const pickedPromise = new Promise((resolve) => {\n",
              "    inputElement.addEventListener('change', (e) => {\n",
              "      resolve(e.target.files);\n",
              "    });\n",
              "  });\n",
              "\n",
              "  const cancel = document.createElement('button');\n",
              "  inputElement.parentElement.appendChild(cancel);\n",
              "  cancel.textContent = 'Cancel upload';\n",
              "  const cancelPromise = new Promise((resolve) => {\n",
              "    cancel.onclick = () => {\n",
              "      resolve(null);\n",
              "    };\n",
              "  });\n",
              "\n",
              "  // Wait for the user to pick the files.\n",
              "  const files = yield {\n",
              "    promise: Promise.race([pickedPromise, cancelPromise]),\n",
              "    response: {\n",
              "      action: 'starting',\n",
              "    }\n",
              "  };\n",
              "\n",
              "  cancel.remove();\n",
              "\n",
              "  // Disable the input element since further picks are not allowed.\n",
              "  inputElement.disabled = true;\n",
              "\n",
              "  if (!files) {\n",
              "    return {\n",
              "      response: {\n",
              "        action: 'complete',\n",
              "      }\n",
              "    };\n",
              "  }\n",
              "\n",
              "  for (const file of files) {\n",
              "    const li = document.createElement('li');\n",
              "    li.append(span(file.name, {fontWeight: 'bold'}));\n",
              "    li.append(span(\n",
              "        `(${file.type || 'n/a'}) - ${file.size} bytes, ` +\n",
              "        `last modified: ${\n",
              "            file.lastModifiedDate ? file.lastModifiedDate.toLocaleDateString() :\n",
              "                                    'n/a'} - `));\n",
              "    const percent = span('0% done');\n",
              "    li.appendChild(percent);\n",
              "\n",
              "    outputElement.appendChild(li);\n",
              "\n",
              "    const fileDataPromise = new Promise((resolve) => {\n",
              "      const reader = new FileReader();\n",
              "      reader.onload = (e) => {\n",
              "        resolve(e.target.result);\n",
              "      };\n",
              "      reader.readAsArrayBuffer(file);\n",
              "    });\n",
              "    // Wait for the data to be ready.\n",
              "    let fileData = yield {\n",
              "      promise: fileDataPromise,\n",
              "      response: {\n",
              "        action: 'continue',\n",
              "      }\n",
              "    };\n",
              "\n",
              "    // Use a chunked sending to avoid message size limits. See b/62115660.\n",
              "    let position = 0;\n",
              "    do {\n",
              "      const length = Math.min(fileData.byteLength - position, MAX_PAYLOAD_SIZE);\n",
              "      const chunk = new Uint8Array(fileData, position, length);\n",
              "      position += length;\n",
              "\n",
              "      const base64 = btoa(String.fromCharCode.apply(null, chunk));\n",
              "      yield {\n",
              "        response: {\n",
              "          action: 'append',\n",
              "          file: file.name,\n",
              "          data: base64,\n",
              "        },\n",
              "      };\n",
              "\n",
              "      let percentDone = fileData.byteLength === 0 ?\n",
              "          100 :\n",
              "          Math.round((position / fileData.byteLength) * 100);\n",
              "      percent.textContent = `${percentDone}% done`;\n",
              "\n",
              "    } while (position < fileData.byteLength);\n",
              "  }\n",
              "\n",
              "  // All done.\n",
              "  yield {\n",
              "    response: {\n",
              "      action: 'complete',\n",
              "    }\n",
              "  };\n",
              "}\n",
              "\n",
              "scope.google = scope.google || {};\n",
              "scope.google.colab = scope.google.colab || {};\n",
              "scope.google.colab._files = {\n",
              "  _uploadFiles,\n",
              "  _uploadFilesContinue,\n",
              "};\n",
              "})(self);\n",
              "</script> "
            ]
          },
          "metadata": {}
        },
        {
          "output_type": "stream",
          "name": "stderr",
          "text": [
            "\n"
          ]
        },
        {
          "output_type": "stream",
          "name": "stdout",
          "text": [
            "Saving WhatsApp-Image-2023-06-13-at-11-25-20-PM-2-_jpeg.rf.887ad229b24d1d8796c4e1f48a072928.jpg to WhatsApp-Image-2023-06-13-at-11-25-20-PM-2-_jpeg.rf.887ad229b24d1d8796c4e1f48a072928.jpg\n"
          ]
        },
        {
          "output_type": "stream",
          "name": "stderr",
          "text": [
            "0: 640x640 8 as, 8 bs, 10 cs, 6 ds, 19 not answereds, 216.0ms\n",
            "Speed: 3.3ms preprocess, 216.0ms inference, 1.8ms postprocess per image at shape (1, 3, 640, 640)\n",
            "Results saved to \u001b[1mruns/detect/predict2\u001b[0m\n"
          ]
        },
        {
          "output_type": "execute_result",
          "data": {
            "text/plain": [
              "[{'question': 1, 'answer': 'b', 'center': array([115, 121])},\n",
              " {'question': 2, 'answer': 'b', 'center': array([115, 139])},\n",
              " {'question': 3, 'answer': 'a', 'center': array([115, 157])},\n",
              " {'question': 4, 'answer': 'a', 'center': array([115, 175])},\n",
              " {'question': 5, 'answer': 'b', 'center': array([114, 194])},\n",
              " {'question': 6, 'answer': 'not answered', 'center': array([114, 212])},\n",
              " {'question': 7, 'answer': 'c', 'center': array([114, 231])},\n",
              " {'question': 8, 'answer': 'a', 'center': array([114, 251])},\n",
              " {'question': 9, 'answer': 'd', 'center': array([114, 270])},\n",
              " {'question': 10, 'answer': 'c', 'center': array([114, 289])},\n",
              " {'question': 11, 'answer': 'd', 'center': array([113, 309])},\n",
              " {'question': 12, 'answer': 'c', 'center': array([114, 329])},\n",
              " {'question': 13, 'answer': 'd', 'center': array([113, 349])},\n",
              " {'question': 14, 'answer': 'c', 'center': array([114, 370])},\n",
              " {'question': 15, 'answer': 'not answered', 'center': array([113, 390])},\n",
              " {'question': 16, 'answer': 'b', 'center': array([113, 411])},\n",
              " {'question': 17, 'answer': 'not answered', 'center': array([113, 432])},\n",
              " {'question': 18, 'answer': 'not answered', 'center': array([112, 453])},\n",
              " {'question': 19, 'answer': 'not answered', 'center': array([112, 475])},\n",
              " {'question': 20, 'answer': 'a', 'center': array([112, 497])},\n",
              " {'question': 21, 'answer': 'not answered', 'center': array([112, 518])},\n",
              " {'question': 22, 'answer': 'not answered', 'center': array([111, 540])},\n",
              " {'question': 23, 'answer': 'c', 'center': array([111, 562])},\n",
              " {'question': 24, 'answer': 'not answered', 'center': array([110, 585])},\n",
              " {'question': 25, 'answer': 'not answered', 'center': array([110, 608])},\n",
              " {'question': 26, 'answer': 'c', 'center': array([260, 119])},\n",
              " {'question': 27, 'answer': 'a', 'center': array([260, 137])},\n",
              " {'question': 28, 'answer': 'd', 'center': array([260, 155])},\n",
              " {'question': 29, 'answer': 'c', 'center': array([261, 173])},\n",
              " {'question': 30, 'answer': 'd', 'center': array([261, 192])},\n",
              " {'question': 31, 'answer': 'not answered', 'center': array([262, 210])},\n",
              " {'question': 32, 'answer': 'c', 'center': array([263, 229])},\n",
              " {'question': 33, 'answer': 'b', 'center': array([263, 248])},\n",
              " {'question': 34, 'answer': 'c', 'center': array([264, 267])},\n",
              " {'question': 35, 'answer': 'not answered', 'center': array([265, 287])},\n",
              " {'question': 36, 'answer': 'a', 'center': array([266, 306])},\n",
              " {'question': 37, 'answer': 'b', 'center': array([266, 326])},\n",
              " {'question': 38, 'answer': 'b', 'center': array([267, 346])},\n",
              " {'question': 39, 'answer': 'not answered', 'center': array([268, 366])},\n",
              " {'question': 40, 'answer': 'not answered', 'center': array([268, 387])},\n",
              " {'question': 41, 'answer': 'not answered', 'center': array([268, 407])},\n",
              " {'question': 42, 'answer': 'not answered', 'center': array([269, 429])},\n",
              " {'question': 43, 'answer': 'not answered', 'center': array([270, 449])},\n",
              " {'question': 44, 'answer': 'c', 'center': array([270, 471])},\n",
              " {'question': 45, 'answer': 'not answered', 'center': array([271, 493])},\n",
              " {'question': 46, 'answer': 'b', 'center': array([272, 514])},\n",
              " {'question': 47, 'answer': 'a', 'center': array([273, 537])},\n",
              " {'question': 48, 'answer': 'a', 'center': array([273, 559])},\n",
              " {'question': 49, 'answer': 'not answered', 'center': array([274, 581])},\n",
              " {'question': 50, 'answer': 'd', 'center': array([274, 603])}]"
            ]
          },
          "metadata": {},
          "execution_count": 13
        }
      ],
      "source": [
        "from google.colab import files\n",
        "\n",
        "uploaded = files.upload()\n",
        "\n",
        "image_path = list(uploaded.keys())[0]\n",
        "model_path = \"model.pt\"\n",
        "\n",
        "predictions = predict(model_path=model_path,image_path=image_path)\n",
        "answers = grading(predictions)\n",
        "# plot_answers(image_path,answers)\n",
        "os.remove(image_path)\n",
        "answers"
      ]
    },
    {
      "cell_type": "code",
      "source": [
        "!rm -r runs"
      ],
      "metadata": {
        "id": "VWj43VuVkbYz"
      },
      "execution_count": 59,
      "outputs": []
    },
    {
      "cell_type": "code",
      "source": [
        "image = cv2.imread(\"/content/image0120230705125542925.jpg\")\n",
        "# gray_image = cv2.cvtColor(image, cv2.COLOR_BGR2GRAY)\n",
        "\n",
        "gray_image = np.zeros_like(image)\n",
        "gray_image[:,:,0] = cv2.cvtColor(image, cv2.COLOR_BGR2GRAY)\n",
        "gray_image[:,:,1] = gray_image[:,:,0]\n",
        "gray_image[:,:,2] = gray_image[:,:,0]\n",
        "\n",
        "print(image.shape)\n",
        "print(gray_image.shape)"
      ],
      "metadata": {
        "colab": {
          "base_uri": "https://localhost:8080/"
        },
        "id": "-1owTo3mbmzN",
        "outputId": "fe889169-9521-49f3-8b56-9a2cd214a029"
      },
      "execution_count": 25,
      "outputs": [
        {
          "output_type": "stream",
          "name": "stdout",
          "text": [
            "(1869, 727, 3)\n",
            "(1869, 727, 3)\n"
          ]
        }
      ]
    }
  ],
  "metadata": {
    "colab": {
      "provenance": []
    },
    "kernelspec": {
      "display_name": "Python 3",
      "name": "python3"
    },
    "language_info": {
      "name": "python"
    }
  },
  "nbformat": 4,
  "nbformat_minor": 0
}